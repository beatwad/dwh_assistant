{
 "cells": [
  {
   "cell_type": "markdown",
   "metadata": {},
   "source": [
    "This notebook is made for managing of RAG vector database. It helps to load RAG database, look at its nodes and deleting them if necessary."
   ]
  },
  {
   "cell_type": "code",
   "execution_count": 1,
   "metadata": {},
   "outputs": [
    {
     "name": "stderr",
     "output_type": "stream",
     "text": [
      "[nltk_data] Downloading package punkt_tab to\n",
      "[nltk_data]     /home/alex/anaconda3/envs/dwh/lib/python3.11/site-\n",
      "[nltk_data]     packages/llama_index/core/_static/nltk_cache...\n",
      "[nltk_data]   Package punkt_tab is already up-to-date!\n"
     ]
    },
    {
     "name": "stdout",
     "output_type": "stream",
     "text": [
      "LLM is explicitly disabled. Using MockLLM.\n"
     ]
    },
    {
     "name": "stderr",
     "output_type": "stream",
     "text": [
      "/home/alex/anaconda3/envs/dwh/lib/python3.11/site-packages/tqdm/auto.py:21: TqdmWarning: IProgress not found. Please update jupyter and ipywidgets. See https://ipywidgets.readthedocs.io/en/stable/user_install.html\n",
      "  from .autonotebook import tqdm as notebook_tqdm\n",
      "/home/alex/anaconda3/envs/dwh/lib/python3.11/site-packages/transformers/tokenization_utils_base.py:1601: FutureWarning: `clean_up_tokenization_spaces` was not set. It will be set to `True` by default. This behavior will be depracted in transformers v4.45, and will be then set to `False` by default. For more details check this issue: https://github.com/huggingface/transformers/issues/31884\n",
      "  warnings.warn(\n"
     ]
    }
   ],
   "source": [
    "from typing import Tuple\n",
    "\n",
    "import chromadb\n",
    "\n",
    "\n",
    "from llama_index.core import VectorStoreIndex, Settings, StorageContext\n",
    "from llama_index.core.retrievers import VectorIndexRetriever\n",
    "from llama_index.vector_stores.chroma import ChromaVectorStore\n",
    "\n",
    "\n",
    "\n",
    "chromadb_path = \"chroma_db\"\n",
    "\n",
    "\n",
    "def init_vector_storage_retriever(\n",
    "        model_name: str = \"sentence-transformers/all-MiniLM-L6-v2\",\n",
    "        top_k: int = 1\n",
    "        ) -> Tuple[VectorStoreIndex, VectorIndexRetriever]:\n",
    "    \"\"\"\n",
    "    Initialize a retriever model for finding the most relevant answer to query in vector database.\n",
    "\n",
    "    Parameters:\n",
    "        model_name (str): The name of the model to load. Default is 'sentence-transformers/all-MiniLM-L6-v2'.\n",
    "            Model names can be found at the Hugging Face model hub: https://huggingface.co/models\n",
    "\n",
    "    Returns:\n",
    "        VectorStoreIndex: retriever for vector database.\n",
    "\n",
    "    Raises:\n",
    "        ValueError: If the model name is empty.\n",
    "        RuntimeError: If the model fails to load.\n",
    "    \"\"\"\n",
    "\n",
    "    # Explicitely set LLM to None to prevent using OpenAI API key\n",
    "    Settings.llm = None\n",
    "\n",
    "    # initialize chromadb client\n",
    "    db = chromadb.PersistentClient(path=chromadb_path)\n",
    "\n",
    "    # get collection\n",
    "    chroma_collection = db.get_or_create_collection(\"quickstart\")\n",
    "\n",
    "    # assign chroma as the vector_store to the context\n",
    "    vector_store = ChromaVectorStore(chroma_collection=chroma_collection)\n",
    "    storage_context = StorageContext.from_defaults(vector_store=vector_store)\n",
    "\n",
    "    # load your index from stored vectors\n",
    "    index = VectorStoreIndex.from_vector_store(\n",
    "        vector_store, \n",
    "        storage_context=storage_context, \n",
    "        embed_model=f\"local:{model_name}\"\n",
    "    )\n",
    "\n",
    "    retriever = VectorIndexRetriever(index=index, similarity_top_k=top_k, use_metadata=False)\n",
    "\n",
    "    return index, retriever, vector_store\n",
    "\n",
    "index, retriever, vector_store = init_vector_storage_retriever(model_name=\"sentence-transformers/all-MiniLM-L6-v2\", top_k=1)"
   ]
  },
  {
   "cell_type": "code",
   "execution_count": 2,
   "metadata": {},
   "outputs": [],
   "source": [
    "ids = index.storage_context.vector_store._get(limit=100, where={}).ids\n",
    "nodes = index.storage_context.vector_store._get(limit=100, where={}).nodes\n",
    "\n",
    "queries = [n.text for n in nodes]\n",
    "answers = [n.metadata[\"answer\"] for n in nodes]"
   ]
  },
  {
   "cell_type": "code",
   "execution_count": 3,
   "metadata": {},
   "outputs": [
    {
     "data": {
      "text/plain": [
       "['1634b47f-3a76-4aa2-93bb-5e235e100984',\n",
       " '7974a6fa-7eed-4149-9e4d-b911954532fc',\n",
       " 'b9fdb5d6-031c-4d16-b0a6-ec02f60db106',\n",
       " 'c5681639-86ef-4c6c-84e1-94f4841c83ae',\n",
       " 'c9eaa81e-40d2-4c56-ba3b-4f32fad83f4a',\n",
       " 'e336be11-7501-48e3-8ede-5078566de53e',\n",
       " 'e537e8b3-dd83-4f68-89d6-775c27eeb370']"
      ]
     },
     "execution_count": 3,
     "metadata": {},
     "output_type": "execute_result"
    }
   ],
   "source": [
    "ids"
   ]
  },
  {
   "cell_type": "code",
   "execution_count": 5,
   "metadata": {},
   "outputs": [
    {
     "data": {
      "text/plain": [
       "['Каков средний рейтинг продуктов по каждой категории',\n",
       " 'How many orders were totally made',\n",
       " 'How many unique items were totally sold?',\n",
       " 'Выведи все страны и количество клиентов в каждой из них',\n",
       " 'Show average product rating for each category',\n",
       " 'How many unique customers bought items?',\n",
       " 'Calculate average product price']"
      ]
     },
     "execution_count": 5,
     "metadata": {},
     "output_type": "execute_result"
    }
   ],
   "source": [
    "queries"
   ]
  },
  {
   "cell_type": "code",
   "execution_count": 6,
   "metadata": {},
   "outputs": [
    {
     "data": {
      "text/plain": [
       "['\\nSELECT AVG(p.rating) as avg_rating, c.name as category_name\\nFROM products p\\nJOIN categories c ON p.category_id = c.id\\nGROUP BY c.name;\\n',\n",
       " 'SELECT COUNT(id) AS total_orders FROM orders;',\n",
       " ' \\nSELECT SUM(quantity) AS total_sold_items FROM order_items;\\n',\n",
       " ' \\nSELECT c.name as country_name, COUNT(DISTINCT u.id) as customer_count \\nFROM countries c \\nLEFT JOIN users u ON c.id = u.country_code \\nGROUP BY c.name; \\n',\n",
       " '\\nSELECT AVG(p.rating) as avg_rating, c.name as category_name\\nFROM products p\\nJOIN categories c ON p.category_id = c.id\\nGROUP BY c.name;\\n',\n",
       " 'SELECT COUNT(DISTINCT user_id) AS unique_customers FROM orders;',\n",
       " '\\nSELECT AVG(price) AS avg_price FROM products;\\n']"
      ]
     },
     "execution_count": 6,
     "metadata": {},
     "output_type": "execute_result"
    }
   ],
   "source": [
    "answers"
   ]
  },
  {
   "cell_type": "code",
   "execution_count": 7,
   "metadata": {},
   "outputs": [],
   "source": [
    "# index.storage_context.vector_store.delete_nodes(ids[:2])"
   ]
  }
 ],
 "metadata": {
  "kernelspec": {
   "display_name": "Python 3",
   "language": "python",
   "name": "python3"
  },
  "language_info": {
   "codemirror_mode": {
    "name": "ipython",
    "version": 3
   },
   "file_extension": ".py",
   "mimetype": "text/x-python",
   "name": "python",
   "nbconvert_exporter": "python",
   "pygments_lexer": "ipython3",
   "version": "3.11.9"
  }
 },
 "nbformat": 4,
 "nbformat_minor": 2
}
